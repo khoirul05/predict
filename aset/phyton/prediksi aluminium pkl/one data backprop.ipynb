{
 "cells": [
  {
   "cell_type": "code",
   "execution_count": 1,
   "metadata": {},
   "outputs": [],
   "source": [
    "import pandas as pd\n",
    "import numpy as np\n",
    "from random import random, seed"
   ]
  },
  {
   "cell_type": "code",
   "execution_count": 2,
   "metadata": {},
   "outputs": [
    {
     "data": {
      "text/html": [
       "<div>\n",
       "<style scoped>\n",
       "    .dataframe tbody tr th:only-of-type {\n",
       "        vertical-align: middle;\n",
       "    }\n",
       "\n",
       "    .dataframe tbody tr th {\n",
       "        vertical-align: top;\n",
       "    }\n",
       "\n",
       "    .dataframe thead th {\n",
       "        text-align: right;\n",
       "    }\n",
       "</style>\n",
       "<table border=\"1\" class=\"dataframe\">\n",
       "  <thead>\n",
       "    <tr style=\"text-align: right;\">\n",
       "      <th></th>\n",
       "      <th>Tanggal</th>\n",
       "      <th>LME Aluminium Cash</th>\n",
       "      <th>LME Aluminium 3 Months</th>\n",
       "      <th>LME Alumina 3 Months</th>\n",
       "    </tr>\n",
       "  </thead>\n",
       "  <tbody>\n",
       "    <tr>\n",
       "      <th>0</th>\n",
       "      <td>2020-06-01</td>\n",
       "      <td>1551.5</td>\n",
       "      <td>1540.0</td>\n",
       "      <td>255.75</td>\n",
       "    </tr>\n",
       "    <tr>\n",
       "      <th>1</th>\n",
       "      <td>2020-06-02</td>\n",
       "      <td>1499.5</td>\n",
       "      <td>1529.0</td>\n",
       "      <td>255.75</td>\n",
       "    </tr>\n",
       "    <tr>\n",
       "      <th>2</th>\n",
       "      <td>2020-06-03</td>\n",
       "      <td>1526.0</td>\n",
       "      <td>1555.5</td>\n",
       "      <td>255.75</td>\n",
       "    </tr>\n",
       "    <tr>\n",
       "      <th>3</th>\n",
       "      <td>2020-06-04</td>\n",
       "      <td>1535.0</td>\n",
       "      <td>1560.5</td>\n",
       "      <td>255.75</td>\n",
       "    </tr>\n",
       "    <tr>\n",
       "      <th>4</th>\n",
       "      <td>2020-06-05</td>\n",
       "      <td>1553.5</td>\n",
       "      <td>1579.0</td>\n",
       "      <td>255.75</td>\n",
       "    </tr>\n",
       "  </tbody>\n",
       "</table>\n",
       "</div>"
      ],
      "text/plain": [
       "     Tanggal  LME Aluminium Cash  LME Aluminium 3 Months  LME Alumina 3 Months\n",
       "0 2020-06-01              1551.5                  1540.0                255.75\n",
       "1 2020-06-02              1499.5                  1529.0                255.75\n",
       "2 2020-06-03              1526.0                  1555.5                255.75\n",
       "3 2020-06-04              1535.0                  1560.5                255.75\n",
       "4 2020-06-05              1553.5                  1579.0                255.75"
      ]
     },
     "execution_count": 2,
     "metadata": {},
     "output_type": "execute_result"
    }
   ],
   "source": [
    "df = pd.read_excel(\"dataset aluminium lme.xlsx\")\n",
    "df.head()"
   ]
  },
  {
   "cell_type": "code",
   "execution_count": 3,
   "metadata": {},
   "outputs": [
    {
     "data": {
      "text/html": [
       "<div>\n",
       "<style scoped>\n",
       "    .dataframe tbody tr th:only-of-type {\n",
       "        vertical-align: middle;\n",
       "    }\n",
       "\n",
       "    .dataframe tbody tr th {\n",
       "        vertical-align: top;\n",
       "    }\n",
       "\n",
       "    .dataframe thead th {\n",
       "        text-align: right;\n",
       "    }\n",
       "</style>\n",
       "<table border=\"1\" class=\"dataframe\">\n",
       "  <thead>\n",
       "    <tr style=\"text-align: right;\">\n",
       "      <th></th>\n",
       "      <th>Tanggal</th>\n",
       "      <th>LME Aluminium Cash</th>\n",
       "      <th>LME Aluminium 3 Months</th>\n",
       "      <th>LME Alumina 3 Months</th>\n",
       "    </tr>\n",
       "  </thead>\n",
       "  <tbody>\n",
       "    <tr>\n",
       "      <th>0</th>\n",
       "      <td>2020-06-01</td>\n",
       "      <td>1551.5</td>\n",
       "      <td>1540.0</td>\n",
       "      <td>255.75</td>\n",
       "    </tr>\n",
       "    <tr>\n",
       "      <th>1</th>\n",
       "      <td>2020-06-02</td>\n",
       "      <td>1499.5</td>\n",
       "      <td>1529.0</td>\n",
       "      <td>255.75</td>\n",
       "    </tr>\n",
       "    <tr>\n",
       "      <th>2</th>\n",
       "      <td>2020-06-03</td>\n",
       "      <td>1526.0</td>\n",
       "      <td>1555.5</td>\n",
       "      <td>255.75</td>\n",
       "    </tr>\n",
       "    <tr>\n",
       "      <th>3</th>\n",
       "      <td>2020-06-04</td>\n",
       "      <td>1535.0</td>\n",
       "      <td>1560.5</td>\n",
       "      <td>255.75</td>\n",
       "    </tr>\n",
       "    <tr>\n",
       "      <th>4</th>\n",
       "      <td>2020-06-05</td>\n",
       "      <td>1553.5</td>\n",
       "      <td>1579.0</td>\n",
       "      <td>255.75</td>\n",
       "    </tr>\n",
       "    <tr>\n",
       "      <th>...</th>\n",
       "      <td>...</td>\n",
       "      <td>...</td>\n",
       "      <td>...</td>\n",
       "      <td>...</td>\n",
       "    </tr>\n",
       "    <tr>\n",
       "      <th>57</th>\n",
       "      <td>2020-07-28</td>\n",
       "      <td>1671.0</td>\n",
       "      <td>1709.0</td>\n",
       "      <td>264.00</td>\n",
       "    </tr>\n",
       "    <tr>\n",
       "      <th>58</th>\n",
       "      <td>2020-07-29</td>\n",
       "      <td>1687.0</td>\n",
       "      <td>1726.5</td>\n",
       "      <td>271.75</td>\n",
       "    </tr>\n",
       "    <tr>\n",
       "      <th>59</th>\n",
       "      <td>2020-07-30</td>\n",
       "      <td>1681.5</td>\n",
       "      <td>1719.0</td>\n",
       "      <td>275.00</td>\n",
       "    </tr>\n",
       "    <tr>\n",
       "      <th>60</th>\n",
       "      <td>2020-07-31</td>\n",
       "      <td>1685.5</td>\n",
       "      <td>1722.0</td>\n",
       "      <td>275.00</td>\n",
       "    </tr>\n",
       "    <tr>\n",
       "      <th>61</th>\n",
       "      <td>2020-08-01</td>\n",
       "      <td>1685.5</td>\n",
       "      <td>1722.0</td>\n",
       "      <td>275.00</td>\n",
       "    </tr>\n",
       "  </tbody>\n",
       "</table>\n",
       "<p>62 rows × 4 columns</p>\n",
       "</div>"
      ],
      "text/plain": [
       "      Tanggal  LME Aluminium Cash  LME Aluminium 3 Months  \\\n",
       "0  2020-06-01              1551.5                  1540.0   \n",
       "1  2020-06-02              1499.5                  1529.0   \n",
       "2  2020-06-03              1526.0                  1555.5   \n",
       "3  2020-06-04              1535.0                  1560.5   \n",
       "4  2020-06-05              1553.5                  1579.0   \n",
       "..        ...                 ...                     ...   \n",
       "57 2020-07-28              1671.0                  1709.0   \n",
       "58 2020-07-29              1687.0                  1726.5   \n",
       "59 2020-07-30              1681.5                  1719.0   \n",
       "60 2020-07-31              1685.5                  1722.0   \n",
       "61 2020-08-01              1685.5                  1722.0   \n",
       "\n",
       "    LME Alumina 3 Months  \n",
       "0                 255.75  \n",
       "1                 255.75  \n",
       "2                 255.75  \n",
       "3                 255.75  \n",
       "4                 255.75  \n",
       "..                   ...  \n",
       "57                264.00  \n",
       "58                271.75  \n",
       "59                275.00  \n",
       "60                275.00  \n",
       "61                275.00  \n",
       "\n",
       "[62 rows x 4 columns]"
      ]
     },
     "execution_count": 3,
     "metadata": {},
     "output_type": "execute_result"
    }
   ],
   "source": [
    "# dm = df.loc[0:6]\n",
    "dm = df\n",
    "dm"
   ]
  },
  {
   "cell_type": "code",
   "execution_count": 4,
   "metadata": {},
   "outputs": [
    {
     "data": {
      "text/html": [
       "<div>\n",
       "<style scoped>\n",
       "    .dataframe tbody tr th:only-of-type {\n",
       "        vertical-align: middle;\n",
       "    }\n",
       "\n",
       "    .dataframe tbody tr th {\n",
       "        vertical-align: top;\n",
       "    }\n",
       "\n",
       "    .dataframe thead th {\n",
       "        text-align: right;\n",
       "    }\n",
       "</style>\n",
       "<table border=\"1\" class=\"dataframe\">\n",
       "  <thead>\n",
       "    <tr style=\"text-align: right;\">\n",
       "      <th></th>\n",
       "      <th>x1</th>\n",
       "      <th>x2</th>\n",
       "      <th>y</th>\n",
       "    </tr>\n",
       "  </thead>\n",
       "  <tbody>\n",
       "    <tr>\n",
       "      <th>0</th>\n",
       "      <td>1551.5</td>\n",
       "      <td>1499.5</td>\n",
       "      <td>1535</td>\n",
       "    </tr>\n",
       "    <tr>\n",
       "      <th>1</th>\n",
       "      <td>1535</td>\n",
       "      <td>1499.5</td>\n",
       "      <td>1553.5</td>\n",
       "    </tr>\n",
       "    <tr>\n",
       "      <th>2</th>\n",
       "      <td>1553.5</td>\n",
       "      <td>1526</td>\n",
       "      <td>1553.5</td>\n",
       "    </tr>\n",
       "    <tr>\n",
       "      <th>3</th>\n",
       "      <td>1553.5</td>\n",
       "      <td>1535</td>\n",
       "      <td>1553.5</td>\n",
       "    </tr>\n",
       "    <tr>\n",
       "      <th>4</th>\n",
       "      <td>1553.5</td>\n",
       "      <td>1553.5</td>\n",
       "      <td>1569.5</td>\n",
       "    </tr>\n",
       "  </tbody>\n",
       "</table>\n",
       "</div>"
      ],
      "text/plain": [
       "       x1      x2       y\n",
       "0  1551.5  1499.5    1535\n",
       "1    1535  1499.5  1553.5\n",
       "2  1553.5    1526  1553.5\n",
       "3  1553.5    1535  1553.5\n",
       "4  1553.5  1553.5  1569.5"
      ]
     },
     "execution_count": 4,
     "metadata": {},
     "output_type": "execute_result"
    }
   ],
   "source": [
    "# for i in range(len(dm[\"LME Aluminium Cash\"])):\n",
    "#     if i == 0:\n",
    "#         print ((dm[\"LME Aluminium Cash\"][i:(i+1)*3]) )\n",
    "#         print (max(dm[\"LME Aluminium Cash\"][i:(i+1)*3]))\n",
    "#         print (min(dm[\"LME Aluminium Cash\"][i:(i+1)*3]))\n",
    "\n",
    "#         print(\"target: \", dm[\"LME Aluminium Cash\"][i+3])\n",
    "#     elif (i)+3 < len(dm[\"LME Aluminium Cash\"]):\n",
    "#         print ((dm[\"LME Aluminium Cash\"][i:(i)+3] ))\n",
    "#         print(\"target: \", dm[\"LME Aluminium Cash\"][i+3])\n",
    "col = []\n",
    "for i in dm.columns:\n",
    "    if i != \"Tanggal\":\n",
    "        col.append(i)\n",
    "def preprocess(column):\n",
    "    threeDaysData = pd.DataFrame(columns= [\"x1\", \"x2\", \"y\"])\n",
    "    for i in range(len(dm[\"LME Aluminium Cash\"])):\n",
    "        if i == 0:\n",
    "            threeDaysData.loc[i, \"x1\"] = max(dm[column][i:(i+1)*3])\n",
    "            threeDaysData.loc[i, \"x2\"] = min(dm[column][i:(i+1)*3])\n",
    "            threeDaysData.loc[i, \"y\"] = dm[column][i+3]\n",
    "        elif (i)+3 < len(dm[column]):\n",
    "            threeDaysData.loc[i, \"x1\"] = max(dm[column][i:(i)+3])\n",
    "            threeDaysData.loc[i, \"x2\"] = min(dm[column][i:(i)+3] )\n",
    "            threeDaysData.loc[i, \"y\"] = dm[column][i+3]\n",
    "    return threeDaysData\n",
    "threeDaysData = preprocess(col[0])\n",
    "threeDaysData.head()"
   ]
  },
  {
   "cell_type": "code",
   "execution_count": 5,
   "metadata": {},
   "outputs": [
    {
     "data": {
      "text/html": [
       "<div>\n",
       "<style scoped>\n",
       "    .dataframe tbody tr th:only-of-type {\n",
       "        vertical-align: middle;\n",
       "    }\n",
       "\n",
       "    .dataframe tbody tr th {\n",
       "        vertical-align: top;\n",
       "    }\n",
       "\n",
       "    .dataframe thead th {\n",
       "        text-align: right;\n",
       "    }\n",
       "</style>\n",
       "<table border=\"1\" class=\"dataframe\">\n",
       "  <thead>\n",
       "    <tr style=\"text-align: right;\">\n",
       "      <th></th>\n",
       "      <th>x1</th>\n",
       "      <th>x2</th>\n",
       "      <th>y</th>\n",
       "    </tr>\n",
       "  </thead>\n",
       "  <tbody>\n",
       "    <tr>\n",
       "      <th>0</th>\n",
       "      <td>0.108553</td>\n",
       "      <td>0</td>\n",
       "      <td>0</td>\n",
       "    </tr>\n",
       "    <tr>\n",
       "      <th>1</th>\n",
       "      <td>0</td>\n",
       "      <td>0</td>\n",
       "      <td>0.121711</td>\n",
       "    </tr>\n",
       "    <tr>\n",
       "      <th>2</th>\n",
       "      <td>0.121711</td>\n",
       "      <td>0.145604</td>\n",
       "      <td>0.121711</td>\n",
       "    </tr>\n",
       "    <tr>\n",
       "      <th>3</th>\n",
       "      <td>0.121711</td>\n",
       "      <td>0.195055</td>\n",
       "      <td>0.121711</td>\n",
       "    </tr>\n",
       "    <tr>\n",
       "      <th>4</th>\n",
       "      <td>0.121711</td>\n",
       "      <td>0.296703</td>\n",
       "      <td>0.226974</td>\n",
       "    </tr>\n",
       "  </tbody>\n",
       "</table>\n",
       "</div>"
      ],
      "text/plain": [
       "         x1        x2         y\n",
       "0  0.108553         0         0\n",
       "1         0         0  0.121711\n",
       "2  0.121711  0.145604  0.121711\n",
       "3  0.121711  0.195055  0.121711\n",
       "4  0.121711  0.296703  0.226974"
      ]
     },
     "execution_count": 5,
     "metadata": {},
     "output_type": "execute_result"
    }
   ],
   "source": [
    "def minmax(data):\n",
    "    minimum = {}\n",
    "    maximum = {}\n",
    "    for i in data.columns:\n",
    "        minimum[i] = data[i].min()\n",
    "        maximum[i] = data[i].max()\n",
    "    for i in data.index:\n",
    "        for j in data.columns:\n",
    "            data.loc[i, j] = (data.loc[i,j] - minimum[j]) / (maximum[j] - minimum[j])\n",
    "    return data\n",
    "normalData = minmax(threeDaysData)\n",
    "normalData.head()"
   ]
  },
  {
   "cell_type": "code",
   "execution_count": 6,
   "metadata": {},
   "outputs": [],
   "source": [
    "def sigmoid(value):\n",
    "    return 1 / (1 + np.exp(-value))"
   ]
  },
  {
   "cell_type": "code",
   "execution_count": 7,
   "metadata": {},
   "outputs": [],
   "source": [
    "def differ_sigmoid(value):\n",
    "    return sigmoid(value) * (1 - sigmoid(value))"
   ]
  },
  {
   "cell_type": "code",
   "execution_count": 8,
   "metadata": {},
   "outputs": [
    {
     "data": {
      "text/plain": [
       "x1    0.108553\n",
       "x2           0\n",
       "y            0\n",
       "Name: 0, dtype: object"
      ]
     },
     "execution_count": 8,
     "metadata": {},
     "output_type": "execute_result"
    }
   ],
   "source": [
    "dataIn = normalData.iloc[0]\n",
    "dataIn"
   ]
  },
  {
   "cell_type": "code",
   "execution_count": 9,
   "metadata": {},
   "outputs": [],
   "source": [
    "b_in = 0.1\n",
    "layer = 6\n",
    "b_out = 0.1\n",
    "alpha = 0.1"
   ]
  },
  {
   "cell_type": "code",
   "execution_count": 10,
   "metadata": {},
   "outputs": [
    {
     "data": {
      "text/html": [
       "<div>\n",
       "<style scoped>\n",
       "    .dataframe tbody tr th:only-of-type {\n",
       "        vertical-align: middle;\n",
       "    }\n",
       "\n",
       "    .dataframe tbody tr th {\n",
       "        vertical-align: top;\n",
       "    }\n",
       "\n",
       "    .dataframe thead th {\n",
       "        text-align: right;\n",
       "    }\n",
       "</style>\n",
       "<table border=\"1\" class=\"dataframe\">\n",
       "  <thead>\n",
       "    <tr style=\"text-align: right;\">\n",
       "      <th></th>\n",
       "      <th>0</th>\n",
       "      <th>1</th>\n",
       "      <th>2</th>\n",
       "      <th>3</th>\n",
       "      <th>4</th>\n",
       "      <th>5</th>\n",
       "    </tr>\n",
       "  </thead>\n",
       "  <tbody>\n",
       "    <tr>\n",
       "      <th>0</th>\n",
       "      <td>0.527808</td>\n",
       "      <td>0.801632</td>\n",
       "      <td>0.620474</td>\n",
       "      <td>0.207737</td>\n",
       "      <td>0.555741</td>\n",
       "      <td>0.925298</td>\n",
       "    </tr>\n",
       "  </tbody>\n",
       "</table>\n",
       "</div>"
      ],
      "text/plain": [
       "          0         1         2         3         4         5\n",
       "0  0.527808  0.801632  0.620474  0.207737  0.555741  0.925298"
      ]
     },
     "execution_count": 10,
     "metadata": {},
     "output_type": "execute_result"
    }
   ],
   "source": [
    "weightArray = []\n",
    "for i in range(2):\n",
    "    weightArray.append(pd.DataFrame(index=[0]))\n",
    "for i in range(len(weightArray)):\n",
    "    for j in range(layer):\n",
    "#         weightArray[i].loc[0, j] = (j+1) * 0.1\n",
    "        weightArray[i].loc[0, j] = random()\n",
    "\n",
    "weightArray[1]"
   ]
  },
  {
   "cell_type": "code",
   "execution_count": 11,
   "metadata": {},
   "outputs": [],
   "source": [
    "inputBias = []\n",
    "for i in range(layer):\n",
    "    inputBias.append(random())"
   ]
  },
  {
   "cell_type": "code",
   "execution_count": 12,
   "metadata": {},
   "outputs": [
    {
     "data": {
      "text/html": [
       "<div>\n",
       "<style scoped>\n",
       "    .dataframe tbody tr th:only-of-type {\n",
       "        vertical-align: middle;\n",
       "    }\n",
       "\n",
       "    .dataframe tbody tr th {\n",
       "        vertical-align: top;\n",
       "    }\n",
       "\n",
       "    .dataframe thead th {\n",
       "        text-align: right;\n",
       "    }\n",
       "</style>\n",
       "<table border=\"1\" class=\"dataframe\">\n",
       "  <thead>\n",
       "    <tr style=\"text-align: right;\">\n",
       "      <th></th>\n",
       "      <th>0</th>\n",
       "      <th>1</th>\n",
       "      <th>2</th>\n",
       "      <th>3</th>\n",
       "      <th>4</th>\n",
       "      <th>5</th>\n",
       "      <th>b</th>\n",
       "    </tr>\n",
       "  </thead>\n",
       "  <tbody>\n",
       "    <tr>\n",
       "      <th>0</th>\n",
       "      <td>0.1</td>\n",
       "      <td>0.2</td>\n",
       "      <td>0.3</td>\n",
       "      <td>0.4</td>\n",
       "      <td>0.5</td>\n",
       "      <td>0.6</td>\n",
       "      <td>0.185743</td>\n",
       "    </tr>\n",
       "  </tbody>\n",
       "</table>\n",
       "</div>"
      ],
      "text/plain": [
       "     0    1    2    3    4    5         b\n",
       "0  0.1  0.2  0.3  0.4  0.5  0.6  0.185743"
      ]
     },
     "execution_count": 12,
     "metadata": {},
     "output_type": "execute_result"
    }
   ],
   "source": [
    "outputLayer = pd.DataFrame(columns=[i for i in range(layer)])\n",
    "for i in range(len(outputLayer.columns)):\n",
    "    outputLayer.loc[0, i] = (i+1) * 0.1\n",
    "outputLayer.loc[0, \"b\"] = random()\n",
    "# outputLayer.loc[0, \"b\"] = 0.1\n",
    "\n",
    "outputLayer"
   ]
  },
  {
   "cell_type": "code",
   "execution_count": 13,
   "metadata": {},
   "outputs": [
    {
     "data": {
      "text/plain": [
       "[0.9518154311403181,\n",
       " 0.0734307495684178,\n",
       " 0.4424522316187576,\n",
       " 0.6587287180861378,\n",
       " 0.45693153739219833,\n",
       " 1.0441929253805933]"
      ]
     },
     "execution_count": 13,
     "metadata": {},
     "output_type": "execute_result"
    }
   ],
   "source": [
    "# z_net = pd.DataFrame(0, index = [i for i in range(len(dataIn.index))], columns=[i for i in range(layer)])\n",
    "z_net = []\n",
    "for i in range(layer):\n",
    "    z_net.append((inputBias[i] + dataIn[\"x1\"] * weightArray[0].loc[0, i] + dataIn[\"x2\"] * weightArray[1].loc[0, i]\n",
    "))\n",
    "z_net"
   ]
  },
  {
   "cell_type": "code",
   "execution_count": 14,
   "metadata": {},
   "outputs": [
    {
     "data": {
      "text/plain": [
       "[0.7214801292915753,\n",
       " 0.5183494430019364,\n",
       " 0.6088431930791915,\n",
       " 0.6589747548115035,\n",
       " 0.6122859995722423,\n",
       " 0.7396582232673263]"
      ]
     },
     "execution_count": 14,
     "metadata": {},
     "output_type": "execute_result"
    }
   ],
   "source": [
    "z_activate = []\n",
    "#         z_activate.loc[i, j] = 1 / (1+(2.71828183 ** -(z_net.loc[i, j])))\n",
    "for i in range((layer)):\n",
    "    z_activate.append(sigmoid(z_net[i]))\n",
    "\n",
    "z_activate"
   ]
  },
  {
   "cell_type": "code",
   "execution_count": 15,
   "metadata": {},
   "outputs": [
    {
     "data": {
      "text/plain": [
       "[1.4719986951244208]"
      ]
     },
     "execution_count": 15,
     "metadata": {},
     "output_type": "execute_result"
    }
   ],
   "source": [
    "y_net = []\n",
    "y_temp = []\n",
    "\n",
    "for i in range(layer):\n",
    "    y_temp.append((z_activate[i] * outputLayer.loc[0, i]))\n",
    "y_net.append(np.sum(y_temp)+b_out)\n",
    "y_net"
   ]
  },
  {
   "cell_type": "code",
   "execution_count": 16,
   "metadata": {},
   "outputs": [
    {
     "data": {
      "text/plain": [
       "[0.8133609877768121]"
      ]
     },
     "execution_count": 16,
     "metadata": {},
     "output_type": "execute_result"
    }
   ],
   "source": [
    "y_activate = []\n",
    "for i in y_net:\n",
    "    y_activate.append(sigmoid(i))\n",
    "y_activate"
   ]
  },
  {
   "cell_type": "code",
   "execution_count": 17,
   "metadata": {},
   "outputs": [
    {
     "name": "stdout",
     "output_type": "stream",
     "text": [
      "-0.8133609877768121\n"
     ]
    },
    {
     "data": {
      "text/plain": [
       "0.6615560964372714"
      ]
     },
     "execution_count": 17,
     "metadata": {},
     "output_type": "execute_result"
    }
   ],
   "source": [
    "error = dataIn[\"y\"] - y_activate[0]\n",
    "print(error)\n",
    "mse = (error ** 2)\n",
    "mse"
   ]
  },
  {
   "cell_type": "code",
   "execution_count": null,
   "metadata": {},
   "outputs": [],
   "source": []
  },
  {
   "cell_type": "code",
   "execution_count": 18,
   "metadata": {},
   "outputs": [
    {
     "data": {
      "text/plain": [
       "[-0.12347217636928039]"
      ]
     },
     "execution_count": 18,
     "metadata": {},
     "output_type": "execute_result"
    }
   ],
   "source": [
    "backOutputTarget = []\n",
    "for i in range(len(y_activate)):\n",
    "    backOutputTarget.append((dataIn[\"y\"] - \n",
    "                             y_activate[i]) * differ_sigmoid(y_net[i]))\n",
    "backOutputTarget            "
   ]
  },
  {
   "cell_type": "code",
   "execution_count": 19,
   "metadata": {},
   "outputs": [
    {
     "data": {
      "text/plain": [
       "[-0.008908272177082061,\n",
       " -0.006400173384725334,\n",
       " -0.007517519411710977,\n",
       " -0.008136504714898926,\n",
       " -0.007560028492762503,\n",
       " -0.009132721059625188,\n",
       " -0.001234721763692804]"
      ]
     },
     "execution_count": 19,
     "metadata": {},
     "output_type": "execute_result"
    }
   ],
   "source": [
    "backAlphaHidden = []\n",
    "for i in range(layer):\n",
    "    backAlphaHidden.append(alpha * backOutputTarget[0] * z_activate[i])\n",
    "backAlphaHidden.append(alpha * backOutputTarget[0] * b_out)\n",
    "backAlphaHidden"
   ]
  },
  {
   "cell_type": "code",
   "execution_count": 20,
   "metadata": {},
   "outputs": [
    {
     "data": {
      "text/plain": [
       "[-0.012347217636928039,\n",
       " -0.024694435273856077,\n",
       " -0.03704165291078412,\n",
       " -0.049388870547712155,\n",
       " -0.061736088184640193,\n",
       " -0.07408330582156825]"
      ]
     },
     "execution_count": 20,
     "metadata": {},
     "output_type": "execute_result"
    }
   ],
   "source": [
    "errorTarget = []\n",
    "for i in range(layer):\n",
    "    errorTarget.append(backOutputTarget[0] * outputLayer.loc[0, i])\n",
    "errorTarget"
   ]
  },
  {
   "cell_type": "code",
   "execution_count": 21,
   "metadata": {},
   "outputs": [
    {
     "data": {
      "text/plain": [
       "[-0.002481130814996352,\n",
       " -0.006165294151274278,\n",
       " -0.008821586667150182,\n",
       " -0.011099014061503055,\n",
       " -0.014655644451383908,\n",
       " -0.014265772962400369]"
      ]
     },
     "execution_count": 21,
     "metadata": {},
     "output_type": "execute_result"
    }
   ],
   "source": [
    "errorHidden = []\n",
    "for i in range(layer):\n",
    "    errorHidden.append(errorTarget[i] * differ_sigmoid(z_net[i]))\n",
    "errorHidden"
   ]
  },
  {
   "cell_type": "code",
   "execution_count": 22,
   "metadata": {},
   "outputs": [
    {
     "data": {
      "text/html": [
       "<div>\n",
       "<style scoped>\n",
       "    .dataframe tbody tr th:only-of-type {\n",
       "        vertical-align: middle;\n",
       "    }\n",
       "\n",
       "    .dataframe tbody tr th {\n",
       "        vertical-align: top;\n",
       "    }\n",
       "\n",
       "    .dataframe thead th {\n",
       "        text-align: right;\n",
       "    }\n",
       "</style>\n",
       "<table border=\"1\" class=\"dataframe\">\n",
       "  <thead>\n",
       "    <tr style=\"text-align: right;\">\n",
       "      <th></th>\n",
       "      <th>0</th>\n",
       "      <th>1</th>\n",
       "      <th>2</th>\n",
       "      <th>3</th>\n",
       "      <th>4</th>\n",
       "      <th>5</th>\n",
       "    </tr>\n",
       "  </thead>\n",
       "  <tbody>\n",
       "    <tr>\n",
       "      <th>0</th>\n",
       "      <td>-0.000027</td>\n",
       "      <td>-0.000067</td>\n",
       "      <td>-0.000096</td>\n",
       "      <td>-0.00012</td>\n",
       "      <td>-0.000159</td>\n",
       "      <td>-0.000155</td>\n",
       "    </tr>\n",
       "  </tbody>\n",
       "</table>\n",
       "</div>"
      ],
      "text/plain": [
       "          0         1         2        3         4         5\n",
       "0 -0.000027 -0.000067 -0.000096 -0.00012 -0.000159 -0.000155"
      ]
     },
     "execution_count": 22,
     "metadata": {},
     "output_type": "execute_result"
    }
   ],
   "source": [
    "deltaInputHidden = []\n",
    "deltaInputBias = []\n",
    "for i in range(2):\n",
    "    deltaInputHidden.append(pd.DataFrame(index=[i for i in range(1)]))\n",
    "for i in range(len(deltaInputHidden)):\n",
    "    for j in range(layer):\n",
    "        deltaInputHidden[i].loc[0, j] = alpha * errorHidden[j] * dataIn[i]\n",
    "for i in range(layer):\n",
    "    deltaInputBias.append(alpha * errorHidden[i] * inputBias[i])\n",
    "deltaInputHidden[0]"
   ]
  },
  {
   "cell_type": "code",
   "execution_count": 23,
   "metadata": {},
   "outputs": [
    {
     "data": {
      "text/html": [
       "<div>\n",
       "<style scoped>\n",
       "    .dataframe tbody tr th:only-of-type {\n",
       "        vertical-align: middle;\n",
       "    }\n",
       "\n",
       "    .dataframe tbody tr th {\n",
       "        vertical-align: top;\n",
       "    }\n",
       "\n",
       "    .dataframe thead th {\n",
       "        text-align: right;\n",
       "    }\n",
       "</style>\n",
       "<table border=\"1\" class=\"dataframe\">\n",
       "  <thead>\n",
       "    <tr style=\"text-align: right;\">\n",
       "      <th></th>\n",
       "      <th>0</th>\n",
       "      <th>1</th>\n",
       "      <th>2</th>\n",
       "      <th>3</th>\n",
       "      <th>4</th>\n",
       "      <th>5</th>\n",
       "    </tr>\n",
       "  </thead>\n",
       "  <tbody>\n",
       "    <tr>\n",
       "      <th>0</th>\n",
       "      <td>0.527808</td>\n",
       "      <td>0.801632</td>\n",
       "      <td>0.620474</td>\n",
       "      <td>0.207737</td>\n",
       "      <td>0.555741</td>\n",
       "      <td>0.925298</td>\n",
       "    </tr>\n",
       "  </tbody>\n",
       "</table>\n",
       "</div>"
      ],
      "text/plain": [
       "          0         1         2         3         4         5\n",
       "0  0.527808  0.801632  0.620474  0.207737  0.555741  0.925298"
      ]
     },
     "execution_count": 23,
     "metadata": {},
     "output_type": "execute_result"
    }
   ],
   "source": [
    "newWeightArray = []\n",
    "inputBiasNew = []\n",
    "for i in range(2):\n",
    "    newWeightArray.append(pd.DataFrame(index=[i for i in range(1)]))\n",
    "for i in range(len(newWeightArray)):\n",
    "    for j in range(layer):\n",
    "        newWeightArray[i].loc[0, j] = deltaInputHidden[i].loc[0, j] + weightArray[i].loc[0, j]\n",
    "for i in range(layer):\n",
    "    inputBiasNew.append(inputBias[i] - deltaInputBias[i])\n",
    "\n",
    "newWeightArray[1]"
   ]
  },
  {
   "cell_type": "code",
   "execution_count": 24,
   "metadata": {},
   "outputs": [
    {
     "data": {
      "text/html": [
       "<div>\n",
       "<style scoped>\n",
       "    .dataframe tbody tr th:only-of-type {\n",
       "        vertical-align: middle;\n",
       "    }\n",
       "\n",
       "    .dataframe tbody tr th {\n",
       "        vertical-align: top;\n",
       "    }\n",
       "\n",
       "    .dataframe thead th {\n",
       "        text-align: right;\n",
       "    }\n",
       "</style>\n",
       "<table border=\"1\" class=\"dataframe\">\n",
       "  <thead>\n",
       "    <tr style=\"text-align: right;\">\n",
       "      <th></th>\n",
       "      <th>0</th>\n",
       "      <th>1</th>\n",
       "      <th>2</th>\n",
       "      <th>3</th>\n",
       "      <th>4</th>\n",
       "      <th>5</th>\n",
       "      <th>b</th>\n",
       "    </tr>\n",
       "  </thead>\n",
       "  <tbody>\n",
       "    <tr>\n",
       "      <th>0</th>\n",
       "      <td>0.0910917</td>\n",
       "      <td>0.1936</td>\n",
       "      <td>0.292482</td>\n",
       "      <td>0.391863</td>\n",
       "      <td>0.49244</td>\n",
       "      <td>0.590867</td>\n",
       "      <td>0.098765</td>\n",
       "    </tr>\n",
       "  </tbody>\n",
       "</table>\n",
       "</div>"
      ],
      "text/plain": [
       "           0       1         2         3        4         5         b\n",
       "0  0.0910917  0.1936  0.292482  0.391863  0.49244  0.590867  0.098765"
      ]
     },
     "execution_count": 24,
     "metadata": {},
     "output_type": "execute_result"
    }
   ],
   "source": [
    "newOutputLayer = pd.DataFrame(index = [i for i in range(1)], columns=[i for i in range(layer)])\n",
    "for i in newOutputLayer.index:\n",
    "    for j in newOutputLayer.columns:\n",
    "        newOutputLayer.loc[i, j] = backAlphaHidden[j] + outputLayer.loc[0, j]\n",
    "for i in newOutputLayer.index:\n",
    "    newOutputLayer.loc[i, \"b\"] = backAlphaHidden[len(backAlphaHidden)-1] + b_out\n",
    "newOutputLayer"
   ]
  },
  {
   "cell_type": "code",
   "execution_count": null,
   "metadata": {},
   "outputs": [],
   "source": []
  },
  {
   "cell_type": "code",
   "execution_count": 25,
   "metadata": {},
   "outputs": [],
   "source": [
    "def back_train(x, epoch, alpha, layer, max_mse):\n",
    "    et = 0\n",
    "    ep = 0\n",
    "    weightArray = []\n",
    "    outputLayer = pd.DataFrame(columns=[i for i in range(layer)])\n",
    "    inputBias = []\n",
    "\n",
    "    mse = 1\n",
    "    while (epoch == -1 or ep <  epoch) and mse > max_mse:\n",
    "\n",
    "        print(\"MSE: \", mse, \"Epoch: \", ep)\n",
    "        dataIn = x.iloc[et]\n",
    "        if ep == 0:\n",
    "            for i in range(2):\n",
    "                weightArray.append(pd.DataFrame(index=[0]))\n",
    "            for i in range(len(weightArray)):\n",
    "                for j in range(layer):\n",
    "                    weightArray[i].loc[0, j] = random()\n",
    "            for i in range(layer):\n",
    "                inputBias.append(random())\n",
    "            for i in range(len(outputLayer.columns)):\n",
    "                outputLayer.loc[0, i] = random()\n",
    "            outputLayer.loc[0, \"b\"] = random()\n",
    "        else:\n",
    "            inputBias = inputBiasNew\n",
    "            weightArray = newWeightArray\n",
    "            outputLayer = newOutputLayer\n",
    "        z_net = []\n",
    "        for i in range(layer):\n",
    "            z_net.append((inputBias[i] + dataIn[\"x1\"] * weightArray[0].loc[0, i] + dataIn[\"x2\"] * weightArray[1].loc[0, i]\n",
    "        ))\n",
    "        z_activate = []\n",
    "        #         z_activate.loc[i, j] = 1 / (1+(2.71828183 ** -(z_net.loc[i, j])))\n",
    "        for i in range((layer)):\n",
    "            z_activate.append(sigmoid(z_net[i]))\n",
    "        y_net = []\n",
    "        y_temp = []\n",
    "\n",
    "        for i in range((layer)):\n",
    "            y_temp.append((z_activate[i] * outputLayer.loc[0, i]))\n",
    "        y_net.append(np.sum(y_temp)+b_out)\n",
    "        y_activate = []\n",
    "        for i in y_net:\n",
    "            y_activate.append(sigmoid(i))\n",
    "        error = dataIn[\"y\"] - y_activate[0]\n",
    "        mse = (error ** 2)\n",
    "        backOutputTarget = []\n",
    "        for i in range(len(y_activate)):\n",
    "            backOutputTarget.append((dataIn[\"y\"] - \n",
    "                                     y_activate[i]) * differ_sigmoid(y_net[i]))\n",
    "        backAlphaHidden = []\n",
    "        for i in range(layer):\n",
    "            backAlphaHidden.append(alpha * backOutputTarget[0] * z_activate[i])\n",
    "        backAlphaHidden.append(alpha * backOutputTarget[0] * b_out)\n",
    "        errorTarget = []\n",
    "        for i in range(layer):\n",
    "            errorTarget.append(backOutputTarget[0] * outputLayer.loc[0, i])\n",
    "        errorHidden = []\n",
    "        for i in range(layer):\n",
    "            errorHidden.append(errorTarget[i] * differ_sigmoid(z_net[i]))\n",
    "        deltaInputHidden = []\n",
    "        deltaInputBias = []\n",
    "        for i in range(2):\n",
    "            deltaInputHidden.append(pd.DataFrame(index=[i for i in range(1)]))\n",
    "        for i in range(len(deltaInputHidden)):\n",
    "            for j in range(layer):\n",
    "                deltaInputHidden[i].loc[0, j] = alpha * errorHidden[j] * dataIn[i]\n",
    "        for i in range(layer):\n",
    "            deltaInputBias.append(alpha * errorHidden[i] * inputBias[i])\n",
    "        newWeightArray = []\n",
    "        inputBiasNew = []\n",
    "        for i in range(2):\n",
    "            newWeightArray.append(pd.DataFrame(index=[i for i in range(1)]))\n",
    "        for i in range(len(newWeightArray)):\n",
    "            for j in range(layer):\n",
    "                newWeightArray[i].loc[0, j] = deltaInputHidden[i].loc[0, j] + weightArray[i].loc[0, j]\n",
    "        for i in range(layer):\n",
    "            inputBiasNew.append(inputBias[i] - deltaInputBias[i])\n",
    "        newOutputLayer = pd.DataFrame(index = [i for i in range(1)], columns=[i for i in range(layer)])\n",
    "        for i in newOutputLayer.index:\n",
    "            for j in newOutputLayer.columns:\n",
    "                newOutputLayer.loc[i, j] = backAlphaHidden[j] + outputLayer.loc[0, j]\n",
    "        for i in newOutputLayer.index:\n",
    "            newOutputLayer.loc[i, \"b\"] = backAlphaHidden[len(backAlphaHidden)-1] + b_out\n",
    "        \n",
    "        ep += 1\n",
    "\n",
    "        if et < len(dataIn):\n",
    "            et += 1\n",
    "        elif et > len(dataIn) - 1:\n",
    "            et = 0\n",
    "    return weightArray, outputLayer, inputBias"
   ]
  },
  {
   "cell_type": "code",
   "execution_count": 26,
   "metadata": {},
   "outputs": [],
   "source": [
    "def back_test(x, weightArray, outputLayer, inputBias, layer):\n",
    "    result = []\n",
    "    for m in range(len(x)):\n",
    "        dataIn = x.iloc[m]\n",
    "        z_net = []\n",
    "        for i in range(layer):\n",
    "            z_net.append((inputBias[i] + dataIn[\"x1\"] * weightArray[0].loc[0, i] + dataIn[\"x2\"] * weightArray[1].loc[0, i]\n",
    "        ))\n",
    "        z_activate = []\n",
    "        #         z_activate.loc[i, j] = 1 / (1+(2.71828183 ** -(z_net.loc[i, j])))\n",
    "        for i in range(layer):\n",
    "            z_activate.append(sigmoid(z_net[i]))\n",
    "        y_net = []\n",
    "        y_temp = []\n",
    "\n",
    "        for i in range(layer):\n",
    "            y_temp.append((z_activate[i] * outputLayer.loc[0, i]))\n",
    "        y_net.append(np.sum(y_temp)+b_out)\n",
    "        y_activate = []\n",
    "        for i in y_net:\n",
    "            y_activate.append(sigmoid(i))\n",
    "            result.append(sigmoid(i))\n",
    "    return result\n",
    "\n"
   ]
  },
  {
   "cell_type": "code",
   "execution_count": 92,
   "metadata": {
    "scrolled": true
   },
   "outputs": [
    {
     "name": "stdout",
     "output_type": "stream",
     "text": [
      "MSE:  1 Epoch:  0\n",
      "MSE:  0.9757409836880977 Epoch:  1\n",
      "MSE:  0.7480546645312949 Epoch:  2\n",
      "MSE:  0.7526204839289625 Epoch:  3\n",
      "MSE:  0.7533143837544595 Epoch:  4\n",
      "MSE:  0.9753426666538746 Epoch:  5\n",
      "MSE:  0.7476797528489927 Epoch:  6\n",
      "MSE:  0.7522981841809789 Epoch:  7\n",
      "MSE:  0.7529993569653334 Epoch:  8\n",
      "MSE:  0.9749311236261318 Epoch:  9\n"
     ]
    }
   ],
   "source": [
    "seed(1)\n",
    "train = normalData.iloc[0:50]\n",
    "test = normalData.iloc[50:]\n",
    "layer = 12\n",
    "weightArray, outputLayer, inputBias = (back_train(train, 10, 0.1, layer, .1))"
   ]
  },
  {
   "cell_type": "code",
   "execution_count": 93,
   "metadata": {},
   "outputs": [
    {
     "data": {
      "text/plain": [
       "[0.9958212940192389,\n",
       " 0.9958831527342391,\n",
       " 0.9959302190940342,\n",
       " 0.9958283990896717,\n",
       " 0.9959378876199197,\n",
       " 0.9960792987714427,\n",
       " 0.9963796779174215,\n",
       " 0.9964830887102838,\n",
       " 0.9965914475521509]"
      ]
     },
     "execution_count": 93,
     "metadata": {},
     "output_type": "execute_result"
    }
   ],
   "source": [
    "hasil = back_test(test, weightArray, outputLayer, inputBias, layer)\n",
    "hasil"
   ]
  },
  {
   "cell_type": "code",
   "execution_count": 94,
   "metadata": {},
   "outputs": [
    {
     "name": "stdout",
     "output_type": "stream",
     "text": [
      "MAE: 0.104797\n",
      "MSE: 0.018897\n",
      "RMSE: 0.137468\n",
      "MAPE: 12.894367\n",
      "Accuracy: 87.105633\n"
     ]
    }
   ],
   "source": [
    "from sklearn.metrics import mean_absolute_error \n",
    "from sklearn.metrics import mean_squared_error \n",
    "from math import sqrt\n",
    "\n",
    "#MAE\n",
    "mae = mean_absolute_error(test[\"y\"], hasil)\n",
    "print('MAE: %f' % mae)\n",
    "\n",
    "#MSE\n",
    "mse = mean_squared_error(test[\"y\"], hasil)\n",
    "print('MSE: %f' % mse)\n",
    "\n",
    "#RMSE\n",
    "rmse = sqrt(mse)\n",
    "print('RMSE: %f' % rmse)\n",
    "\n",
    "#MAPE (Mean Absolute Percentage Error)\n",
    "actual = np.array([test[\"y\"]])\n",
    "forecast = np.array([hasil])\n",
    "mape=np.mean(np.abs((actual - forecast) / actual)) * 100\n",
    "print('MAPE: %f' % mape)\n",
    "\n",
    "# ACCURACY\n",
    "Accuracy= 100-mape\n",
    "print('Accuracy: %f' % Accuracy)"
   ]
  },
  {
   "cell_type": "code",
   "execution_count": 95,
   "metadata": {},
   "outputs": [
    {
     "data": {
      "text/plain": [
       "(array([[0.7861842105263158, 0.7861842105263158, 0.7861842105263158,\n",
       "         0.8322368421052632, 0.8947368421052632, 1.0, 0.9638157894736842,\n",
       "         0.9901315789473685, 0.9901315789473685]], dtype=object),\n",
       " array([[0.99582129, 0.99588315, 0.99593022, 0.9958284 , 0.99593789,\n",
       "         0.9960793 , 0.99637968, 0.99648309, 0.99659145]]))"
      ]
     },
     "execution_count": 95,
     "metadata": {},
     "output_type": "execute_result"
    }
   ],
   "source": [
    "actual, forecast"
   ]
  },
  {
   "cell_type": "code",
   "execution_count": null,
   "metadata": {},
   "outputs": [],
   "source": []
  }
 ],
 "metadata": {
  "kernelspec": {
   "display_name": "Python 3",
   "language": "python",
   "name": "python3"
  },
  "language_info": {
   "codemirror_mode": {
    "name": "ipython",
    "version": 3
   },
   "file_extension": ".py",
   "mimetype": "text/x-python",
   "name": "python",
   "nbconvert_exporter": "python",
   "pygments_lexer": "ipython3",
   "version": "3.7.7"
  }
 },
 "nbformat": 4,
 "nbformat_minor": 4
}
